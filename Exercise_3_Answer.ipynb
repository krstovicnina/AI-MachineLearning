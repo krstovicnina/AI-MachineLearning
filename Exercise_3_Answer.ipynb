{
  "nbformat": 4,
  "nbformat_minor": 0,
  "metadata": {
    "colab": {
      "name": "Exercise_3_Answer.ipynb",
      "provenance": [],
      "collapsed_sections": [],
      "toc_visible": true
    },
    "kernelspec": {
      "display_name": "Python 3",
      "name": "python3"
    }
  },
  "cells": [
    {
      "cell_type": "code",
      "metadata": {
        "id": "zX4Kg8DUTKWO"
      },
      "source": [
        "#@title Licensed under the Apache License, Version 2.0 (the \"License\");\n",
        "# you may not use this file except in compliance with the License.\n",
        "# You may obtain a copy of the License at\n",
        "#\n",
        "# https://www.apache.org/licenses/LICENSE-2.0\n",
        "#\n",
        "# Unless required by applicable law or agreed to in writing, software\n",
        "# distributed under the License is distributed on an \"AS IS\" BASIS,\n",
        "# WITHOUT WARRANTIES OR CONDITIONS OF ANY KIND, either express or implied.\n",
        "# See the License for the specific language governing permissions and\n",
        "# limitations under the License."
      ],
      "execution_count": null,
      "outputs": []
    },
    {
      "cell_type": "markdown",
      "metadata": {
        "id": "iQjHqsmTAVLU"
      },
      "source": [
        "## Exercise 3\n",
        "In the videos you looked at how you would improve Fashion MNIST using Convolutions. For your exercise see if you can improve MNIST to 99.8% accuracy or more using only a single convolutional layer and a single MaxPooling 2D. You should stop training once the accuracy goes above this amount. It should happen in less than 20 epochs, so it's ok to hard code the number of epochs for training, but your training must end once it hits the above metric. If it doesn't, then you'll need to redesign your layers.\n",
        "\n",
        "I've started the code for you -- you need to finish it!\n",
        "\n",
        "When 99.8% accuracy has been hit, you should print out the string \"Reached 99.8% accuracy so cancelling training!\"\n"
      ]
    },
    {
      "cell_type": "code",
      "metadata": {
        "id": "sfQRyaJWAIdg",
        "colab": {
          "base_uri": "https://localhost:8080/"
        },
        "outputId": "06df48e9-eae7-49ef-d77f-16ff4bda5622"
      },
      "source": [
        "import tensorflow as tf\n",
        "\n",
        "class callback(tf.keras.callbacks.Callback):\n",
        "  def on_epoch_end(self,epoch,logs={}):\n",
        "    if (logs.get('accuracy')>0.998):\n",
        "      print(\"\\nReached 99.8% accuracy so cancelling training\")\n",
        "      self.model.stop_training = True\n",
        "callbacks=callback()\n",
        "  \n",
        "mnist = tf.keras.datasets.mnist\n",
        "(image_train, label_train), (image_test, label_test) = mnist.load_data()\n",
        "\n",
        "image_train = image_train.reshape(60000,28,28,1)\n",
        "image_train = image_train / 255.0\n",
        "\n",
        "image_test = image_test.reshape(10000,28,28,1)\n",
        "image_test = image_test / 255.0\n",
        "  \n",
        "model = tf.keras.models.Sequential([\n",
        "                                    tf.keras.layers.Conv2D(32, (3,3), activation='relu', input_shape=(28, 28, 1)),\n",
        "                                    tf.keras.layers.MaxPooling2D(2, 2),\n",
        "                                    tf.keras.layers.Conv2D(64, (3,3), activation='relu'),\n",
        "                                    tf.keras.layers.MaxPooling2D(2,2),\n",
        "                                    tf.keras.layers.Flatten(),\n",
        "                                    tf.keras.layers.Dense(128, activation='relu'),\n",
        "                                    tf.keras.layers.Dense(10, activation='softmax')\n",
        "                                    ])\n",
        "  \n",
        "\n",
        "model.compile(optimizer='adam', loss='sparse_categorical_crossentropy', metrics=['accuracy'])\n",
        "model.summary()\n",
        "    \n",
        "history = model.fit(image_train, label_train, epochs=19, callbacks=[callbacks])\n",
        "test_loss = model.evaluate(image_test, label_test)\n",
        "  \n",
        "\n"
      ],
      "execution_count": 3,
      "outputs": [
        {
          "output_type": "stream",
          "text": [
            "Downloading data from https://storage.googleapis.com/tensorflow/tf-keras-datasets/mnist.npz\n",
            "11493376/11490434 [==============================] - 0s 0us/step\n",
            "Model: \"sequential\"\n",
            "_________________________________________________________________\n",
            "Layer (type)                 Output Shape              Param #   \n",
            "=================================================================\n",
            "conv2d (Conv2D)              (None, 26, 26, 32)        320       \n",
            "_________________________________________________________________\n",
            "max_pooling2d (MaxPooling2D) (None, 13, 13, 32)        0         \n",
            "_________________________________________________________________\n",
            "conv2d_1 (Conv2D)            (None, 11, 11, 64)        18496     \n",
            "_________________________________________________________________\n",
            "max_pooling2d_1 (MaxPooling2 (None, 5, 5, 64)          0         \n",
            "_________________________________________________________________\n",
            "flatten (Flatten)            (None, 1600)              0         \n",
            "_________________________________________________________________\n",
            "dense (Dense)                (None, 128)               204928    \n",
            "_________________________________________________________________\n",
            "dense_1 (Dense)              (None, 10)                1290      \n",
            "=================================================================\n",
            "Total params: 225,034\n",
            "Trainable params: 225,034\n",
            "Non-trainable params: 0\n",
            "_________________________________________________________________\n",
            "Epoch 1/19\n",
            "1875/1875 [==============================] - 52s 27ms/step - loss: 0.2946 - accuracy: 0.9077\n",
            "Epoch 2/19\n",
            "1875/1875 [==============================] - 51s 27ms/step - loss: 0.0444 - accuracy: 0.9860\n",
            "Epoch 3/19\n",
            "1875/1875 [==============================] - 51s 27ms/step - loss: 0.0283 - accuracy: 0.9911\n",
            "Epoch 4/19\n",
            "1875/1875 [==============================] - 51s 27ms/step - loss: 0.0193 - accuracy: 0.9942\n",
            "Epoch 5/19\n",
            "1875/1875 [==============================] - 51s 27ms/step - loss: 0.0136 - accuracy: 0.9955\n",
            "Epoch 6/19\n",
            "1875/1875 [==============================] - 51s 27ms/step - loss: 0.0102 - accuracy: 0.9966\n",
            "Epoch 7/19\n",
            "1875/1875 [==============================] - 51s 27ms/step - loss: 0.0081 - accuracy: 0.9970\n",
            "Epoch 8/19\n",
            "1875/1875 [==============================] - 51s 27ms/step - loss: 0.0060 - accuracy: 0.9981\n",
            "Epoch 9/19\n",
            "1875/1875 [==============================] - 51s 27ms/step - loss: 0.0056 - accuracy: 0.9983\n",
            "Epoch 10/19\n",
            "1875/1875 [==============================] - 50s 27ms/step - loss: 0.0044 - accuracy: 0.9987\n",
            "\n",
            "Reached 99.8% accuracy so cancelling training\n",
            "313/313 [==============================] - 3s 9ms/step - loss: 0.0334 - accuracy: 0.9917\n"
          ],
          "name": "stdout"
        }
      ]
    },
    {
      "cell_type": "code",
      "metadata": {
        "id": "VYZE0b59Y8jS"
      },
      "source": [
        ""
      ],
      "execution_count": null,
      "outputs": []
    }
  ]
}